{
 "cells": [
  {
   "cell_type": "markdown",
   "metadata": {},
   "source": [
    "# HDS5210-2022 Midterm\n",
    "\n",
    "In the midterm, you're going to use all of the programming and data management skills you've developed so far to build a risk calculator that pretends to be integrated with a clinical registry.  You'll compute the PRIEST COVID-19 Clinical Severity Score for a series of patients and, based on their risk of an adverse outcome, query a REST web service to find a hospital to transfer them to. The end result of your work will be a list of instructions on where each patient should be discharged: \"home\" if they are below 30% risk and the recommended hospital if they are at or above 30%.\n",
    "\n",
    "Each step in the midterm will build up to form your final solution. Along the way, I've provided plenty of test cases to make sure that you're getting those steps correct.\n",
    "\n",
    "The midterm is due at 11:59 PM CST on Monday, March 14th.\n",
    "\n",
    "---"
   ]
  },
  {
   "cell_type": "markdown",
   "metadata": {},
   "source": [
    "## Step 1: Calculate PRIEST Clinical Severity Score\n",
    "\n",
    "This scoring algorithm can be found [here on the MDCalc website](https://www.mdcalc.com/priest-covid-19-clinical-severity-score#evidence).  \n",
    "\n",
    "1. You will need to write a function called **priest()** with the following input parameters.  \n",
    " * Sex\n",
    " * Age in years\n",
    " * Respiratory rate in breaths per minute\n",
    " * Oxygen saturation as a percent between 0 and 1\n",
    " * Heart rate in beats per minute\n",
    " * Systolic BP in mmHg\n",
    " * Temperature in degrees C\n",
    " * Alertness as a string description\n",
    " * Inspired Oxygen as as string description\n",
    " * Performance Status as a string description\n",
    "2. The function will need to follow the algorithm provided on the MDCalc website to compute a risk percentage that should be returned as a numeric value between 0 and 1.\n",
    "3. Be sure to use docstring documentation and at least three built-in docstring test cases.\n",
    "4. Assume that the input values that are strings could be any combination of upper or lower case. For example: 'male', 'Male', 'MALE', 'MalE' should all be interpretted by your code as male.\n",
    "5. If any of the inputs are invalid (for example a sex value that is not recognizable as male or female) your code should raise a ValueException that includes a message with the invalid input and which parameter that input was provided as.\n",
    "\n",
    "NOTES:\n",
    "1. In the final step there is a rule to convert form raw score to percentile.  In that conversion, 17-25 maps to 59-88% and ≥26 maps to >99%.  For our purposes, we want these to be specific % number outputs.  Use the following rule:\n",
    " * If score is between 17 and 25, percentile should be 0.59\n",
    " * If score is greater than or equal to 26, percentile should be 0.99\n"
   ]
  },
  {
   "cell_type": "code",
   "execution_count": 1,
   "metadata": {},
   "outputs": [],
   "source": [
    "def priest(sex, age, respiratory_rate, o2_sat, heart_rate, bp_sys, temp_C, alertness, o2_inspired, performance_status):\n",
    "    '''The 1st part of this function calculates the severity of COVID-19 in a person taking their vitals and few other parameters into \n",
    "    consideration.The algorithm used is provided in the MDCalc website. Then based on the score we can predict the probability of adverse\n",
    "    effects they might face in the next 30 days.\n",
    "    \n",
    "    >>> priest('FEMALE', 40, 24, 0.96, 105, 115, 39.9, 'Alert', 'AIR', 'Unrestricted normal activity')\n",
    "    0.09\n",
    "    >>> priest('MaLe', 32, 20, 0.93, 100, 110, 32.2, 'CONFUSED OR NOT ALERT', 'SUPPLEMENTAL OXYGEN', 'LIMITED SELF-CARE')\n",
    "    0.55\n",
    "    >>> priest('FemalE', 22, 17, 0.98, 96, 103, 31.0, 'AleRT', 'AiR', 'BED/CHAIR bOuNd, no SELF-care')\n",
    "    0.26\n",
    "    >>> priest('MalE', 65, 24, 0.87, 90, 99, 36.5, 'ConFusEd oR nOt AleRt', 'air', 'limited strenuous activity, can do light activity')\n",
    "    0.47\n",
    "    >>> priest('male', 50, 20, 0.90, 87, 95, 35, 'alert', 'supplemental oxygen', 'bed/chair bound, no self-care')\n",
    "    0.59\n",
    "    '''\n",
    "    if sex.lower() not in ['male', 'female']:\n",
    "        raise ValueError(f'Invalid input for Sex:{sex.lower()}')\n",
    "    if sex.lower() == \"male\":\n",
    "        sex = 1\n",
    "    elif sex.lower() == \"female\":\n",
    "        sex = 0\n",
    "    if age >= 16 and age <= 49:\n",
    "        age = 0\n",
    "    elif age >= 50 and age <= 65:\n",
    "        age = 2\n",
    "    elif age >= 66 and age <= 80:\n",
    "        age = 3\n",
    "    elif age > 80:\n",
    "        age = 4\n",
    "    if respiratory_rate < 9:\n",
    "        respiratory_rate = 3\n",
    "    elif respiratory_rate >= 9 and respiratory_rate <= 11:\n",
    "        respiratory_rate = 1\n",
    "    elif respiratory_rate >= 12 and respiratory_rate <= 20:\n",
    "        respiratory_rate = 0\n",
    "    elif respiratory_rate >= 21 and respiratory_rate <= 24:\n",
    "        respiratory_rate = 2\n",
    "    elif respiratory_rate > 24:\n",
    "        respiratory_rate = 3\n",
    "    if o2_sat > 0.95:\n",
    "        o2_sat = 0\n",
    "    elif o2_sat >= 0.94 and o2_sat <= 0.95:\n",
    "        o2_sat = 1\n",
    "    elif o2_sat >= 0.92 and o2_sat <= 0.93:\n",
    "        o2_sat = 2\n",
    "    elif o2_sat < 0.92:\n",
    "        o2_sat = 3\n",
    "    if heart_rate < 41:\n",
    "        heart_rate = 3\n",
    "    elif heart_rate >= 41 and heart_rate <= 50:\n",
    "        heart_rate = 1\n",
    "    elif heart_rate >= 51 and heart_rate <= 90:\n",
    "        heart_rate = 0\n",
    "    elif heart_rate >= 91 and heart_rate <= 110:\n",
    "        heart_rate = 1\n",
    "    elif heart_rate >= 111 and heart_rate <= 130:\n",
    "        heart_rate = 2\n",
    "    elif heart_rate >130:\n",
    "        heart_rate = 3\n",
    "    if bp_sys < 91:\n",
    "        bp_sys = 3\n",
    "    elif bp_sys >= 91 and bp_sys <= 100:\n",
    "        bp_sys = 2\n",
    "    elif bp_sys >= 101 and bp_sys <= 110:\n",
    "        bp_sys = 1\n",
    "    elif bp_sys >= 111 and bp_sys <= 219:\n",
    "        bp_sys = 0\n",
    "    elif bp_sys > 219:\n",
    "        bp_sys = 3\n",
    "    if temp_C < 35.1:\n",
    "        temp_C = 3\n",
    "    elif temp_C >= 35.1 and temp_C <= 36.0:\n",
    "        temp_C = 1\n",
    "    elif temp_C >= 36.1 and temp_C <= 38.0:\n",
    "        temp_C = 0\n",
    "    elif temp_C >= 38.1 and temp_C <= 39.0:\n",
    "        temp_C = 1\n",
    "    elif temp_C > 39.0:\n",
    "        temp_C = 2\n",
    "    if alertness.lower() == 'alert':\n",
    "        alertness = 0\n",
    "    elif alertness.lower() == 'confused or not alert':\n",
    "        alertness = 3\n",
    "    if o2_inspired.lower() == 'air':\n",
    "        o2_inspired = 0\n",
    "    elif o2_inspired.lower() == 'supplemental oxygen':\n",
    "        o2_inspired = 2\n",
    "    if performance_status.lower() == 'unrestricted normal activity':\n",
    "        performance_status = 0\n",
    "    elif performance_status.lower() == 'limited strenuous activity, can do light activity':\n",
    "        performance_status = 1\n",
    "    elif performance_status.lower() == 'limited activity, can self-care':\n",
    "        performance_status = 2\n",
    "    elif performance_status.lower() =='limited self-care':\n",
    "        performance_status = 3\n",
    "    elif performance_status.lower() == 'bed/chair bound, no self-care':\n",
    "        performance_status = 4\n",
    "    risk_score = sum([sex, age, respiratory_rate, o2_sat, heart_rate, bp_sys, temp_C, alertness, o2_inspired, performance_status])\n",
    "    \n",
    "    if risk_score >= 0 and risk_score <= 1:\n",
    "        risk = 0.01\n",
    "    elif risk_score >= 2 and risk_score <= 3:\n",
    "        risk = 0.02\n",
    "    elif risk_score == 4:\n",
    "        risk = 0.03\n",
    "    elif risk_score == 5:\n",
    "        risk = 0.09\n",
    "    elif risk_score == 6:\n",
    "        risk = 0.15\n",
    "    elif risk_score == 7:\n",
    "        risk = 0.18\n",
    "    elif risk_score == 8:\n",
    "        risk = 0.22\n",
    "    elif risk_score == 9:\n",
    "        risk = 0.26\n",
    "    elif risk_score == 10:\n",
    "        risk = 0.29\n",
    "    elif risk_score == 11:\n",
    "        risk = 0.34\n",
    "    elif risk_score == 12:\n",
    "        risk = 0.38\n",
    "    elif risk_score == 13:\n",
    "        risk = 0.46\n",
    "    elif risk_score == 14:\n",
    "        risk = 0.47\n",
    "    elif risk_score == 15:\n",
    "        risk = 0.49\n",
    "    elif risk_score == 16:\n",
    "        risk = 0.55\n",
    "    elif risk_score >= 17 and risk_score <= 25:\n",
    "        risk = 0.59\n",
    "    elif risk_score >= 26:\n",
    "        risk = 0.99\n",
    "    return risk"
   ]
  },
  {
   "cell_type": "code",
   "execution_count": 2,
   "metadata": {},
   "outputs": [
    {
     "name": "stdout",
     "output_type": "stream",
     "text": [
      "Finding tests in NoName\n",
      "Trying:\n",
      "    priest('FEMALE', 40, 24, 0.96, 105, 115, 39.9, 'Alert', 'AIR', 'Unrestricted normal activity')\n",
      "Expecting:\n",
      "    0.09\n",
      "ok\n",
      "Trying:\n",
      "    priest('MaLe', 32, 20, 0.93, 100, 110, 32.2, 'CONFUSED OR NOT ALERT', 'SUPPLEMENTAL OXYGEN', 'LIMITED SELF-CARE')\n",
      "Expecting:\n",
      "    0.55\n",
      "ok\n",
      "Trying:\n",
      "    priest('FemalE', 22, 17, 0.98, 96, 103, 31.0, 'AleRT', 'AiR', 'BED/CHAIR bOuNd, no SELF-care')\n",
      "Expecting:\n",
      "    0.26\n",
      "ok\n",
      "Trying:\n",
      "    priest('MalE', 65, 24, 0.87, 90, 99, 36.5, 'ConFusEd oR nOt AleRt', 'air', 'limited strenuous activity, can do light activity')\n",
      "Expecting:\n",
      "    0.47\n",
      "ok\n",
      "Trying:\n",
      "    priest('male', 50, 20, 0.90, 87, 95, 35, 'alert', 'supplemental oxygen', 'bed/chair bound, no self-care')\n",
      "Expecting:\n",
      "    0.59\n",
      "ok\n"
     ]
    }
   ],
   "source": [
    "import doctest\n",
    "doctest.run_docstring_examples(priest, globals(), verbose=True)"
   ]
  },
  {
   "cell_type": "markdown",
   "metadata": {},
   "source": [
    "## Part 2: Find a hospital\n",
    "\n",
    "The next thing we have to do is figure out where to send this particular patient.  The guidelines on where to send a patient are based on their age (pediatric, adult, geriatric), sex, and risk percentage.  Luckily, you don't have to implement these rules. I already have. All you have to do is use a REST web service that I've created for you.\n",
    "\n",
    "You'll want to use Python to make a call to my REST web service similar to the example URL below. The first part of the URL will be the same for everyone and every request that you make. What you will need to modify for each of your requests is the information after the question mark.\n",
    "\n",
    "```\n",
    "https://oumdj6oci2.execute-api.us-east-1.amazonaws.com/prd/?age=40&sex=male&risk_pct=0.1\n",
    "```\n",
    "\n",
    "The example above asks my web service where a 40-year old male with a risk percetage of 10% should go.  What the web service will return back is a JSON string containing the information you need.  That JSON will look like this:\n",
    "\n",
    "```json\n",
    "{\n",
    "  \"age\": \"40\",\n",
    "  \"sex\": \"male\",\n",
    "  \"risk\": \"0.1\",\n",
    "  \"hospital\": \"Southwest Hospital and Medical Center\"\n",
    "}\n",
    "```\n",
    "\n",
    "1. Your job is to write a function called **find_hospital()** that takes age, sex, and risk as parameters.\n",
    "2. Your function should call this REST web service\n",
    "3. Then your function will need to interpret the JSON it gets and return just the name of the hospital\n",
    "4. If anything fails, return None without raising any exceptions\n",
    "5. Include a good docstring with at least five test cases.\n"
   ]
  },
  {
   "cell_type": "code",
   "execution_count": 3,
   "metadata": {},
   "outputs": [],
   "source": [
    "import requests\n",
    "import json\n",
    "def find_hospital(age, sex, risk):\n",
    "    '''This function takes the risk score, age and sex of a patient and figure out which is the nearest facility where the person can be taken\n",
    "    if they are in some emergency using the REST web service.\n",
    "    \n",
    "    >>> find_hospital(45, 'male', 0.2)\n",
    "    'Southwest Hospital and Medical Center'\n",
    "    >>> find_hospital(65, 'male', 0.49)\n",
    "    'Wesley Woods Geriatric Hospital'\n",
    "    >>> find_hospital(29, 'female', 0.56)\n",
    "    'Emory Dunwoody Medical Center'\n",
    "    >>> find_hospital(19, 'female', 0.16)\n",
    "    'Select Specialty Hospital - Northeast Atlanta'\n",
    "    >>> find_hospital(22, 'female', 0.92)\n",
    "    'Emory Dunwoody Medical Center'\n",
    "    '''\n",
    "    url = f'https://oumdj6oci2.execute-api.us-east-1.amazonaws.com/prd/?age={age}&sex={sex}&risk_pct={risk}'\n",
    "    response = requests.get(url)\n",
    "    hospital_name = response.json()['hospital']\n",
    "    return (hospital_name)"
   ]
  },
  {
   "cell_type": "code",
   "execution_count": 4,
   "metadata": {},
   "outputs": [
    {
     "name": "stdout",
     "output_type": "stream",
     "text": [
      "Finding tests in NoName\n",
      "Trying:\n",
      "    find_hospital(45, 'male', 0.2)\n",
      "Expecting:\n",
      "    'Southwest Hospital and Medical Center'\n",
      "ok\n",
      "Trying:\n",
      "    find_hospital(65, 'male', 0.49)\n",
      "Expecting:\n",
      "    'Wesley Woods Geriatric Hospital'\n",
      "ok\n",
      "Trying:\n",
      "    find_hospital(29, 'female', 0.56)\n",
      "Expecting:\n",
      "    'Emory Dunwoody Medical Center'\n",
      "ok\n",
      "Trying:\n",
      "    find_hospital(19, 'female', 0.16)\n",
      "Expecting:\n",
      "    'Select Specialty Hospital - Northeast Atlanta'\n",
      "ok\n",
      "Trying:\n",
      "    find_hospital(22, 'female', 0.92)\n",
      "Expecting:\n",
      "    'Emory Dunwoody Medical Center'\n",
      "ok\n"
     ]
    }
   ],
   "source": [
    "import doctest\n",
    "doctest.run_docstring_examples(find_hospital, globals(), verbose=True)"
   ]
  },
  {
   "cell_type": "markdown",
   "metadata": {},
   "source": [
    "## Part 3: Get the address for that hospital from a webpage\n",
    "\n",
    "Great! Now we have code to tell us which hospital to send someone to... but we don't know where that hospital is. The next function we need to create is one that looks up the address of that hospital.  All of these hospitals are in Atlanta, Georgia.  We're going to use the list on this webpage to lookup the address for that hospital, based on its name.\n",
    "\n",
    "https://www.officialusa.com/stateguides/health/hospitals/georgia.html\n",
    "\n",
    "1. You need to create a function called **get_address()** that takes hospital name as a parameter and searches the data on the webpage above to find the addres for that hospital.\n",
    "2. I've said that all the hospitals are in Atlanta, but this webpage has hospitals from all of Georgia.  So, make sure you verify that the row of data you're using is in Atlanta, just in case there are hospitals with the same name in different cities.\n",
    "3. Your code will have to parse the HTML on the webpage and turn that into some kind of data structure that you can search through to find the right hospital.\n",
    "4. If you do find more than one matching hospital in Atlanta with the same name, you should raise a KeyError.\n",
    "5. If the hospital name isn't found, the function should raise a KeyError.\n",
    "6. Be sure to use good docstring documentation and includes at least 3 test cases."
   ]
  },
  {
   "cell_type": "code",
   "execution_count": 5,
   "metadata": {},
   "outputs": [],
   "source": [
    "from bs4 import BeautifulSoup\n",
    "import requests\n",
    "\n",
    "# Note that you'll need to fetch the data using the following syntax to include headers\n",
    "url = 'https://www.officialusa.com/stateguides/health/hospitals/georgia.html'\n",
    "\n",
    "headers = { \"User-Agent\": \"Mozilla/5.0 (Macintosh; Intel Mac OS X 11_2_3) AppleWebKit/537.36 (KHTML, like Gecko) Chrome/89.0.4389.90 Safari/537.36\" }\n",
    "\n",
    "response = requests.get(url, headers=headers)\n",
    "\n",
    "soup = BeautifulSoup(response.text, 'html.parser')"
   ]
  },
  {
   "cell_type": "code",
   "execution_count": 6,
   "metadata": {},
   "outputs": [
    {
     "data": {
      "text/plain": [
       "200"
      ]
     },
     "execution_count": 6,
     "metadata": {},
     "output_type": "execute_result"
    }
   ],
   "source": [
    "response.status_code"
   ]
  },
  {
   "cell_type": "code",
   "execution_count": 7,
   "metadata": {},
   "outputs": [],
   "source": [
    "def get_address(hospital):\n",
    "    ''' As we found out which hospital to approach in an emergency we should also find out the address of that facility. Now this function\n",
    "    prints out the address of that facility from the website that has the list of hospitals and their address.\n",
    "    \n",
    "    >>> get_address('Select Specialty Hospital - Northeast Atlanta')\n",
    "    '1821 CLIFTON ROAD NE'\n",
    "    >>> get_address('Emory Dunwoody Medical Center')\n",
    "    '4500 NORTH SHALLOWFORD ROAD'\n",
    "    >>> get_address('Wesley Woods Geriatric Hospital')\n",
    "    '1821 CLIFTON ROAD, NE'\n",
    "    '''\n",
    "    results = []\n",
    "    for address_list in soup.find_all('tr'):\n",
    "        for address in address_list.find_all('td'):\n",
    "            if address.text == 'ATLANTA':\n",
    "                next_siblings = address.find_next_siblings('td')\n",
    "                if next_siblings[0].text.lower() == hospital.lower():\n",
    "                    results.append(next_siblings[2].text)           \n",
    "    if len(results)> 1:\n",
    "        raise KeyError('More Than one Hospital Found')\n",
    "    else:\n",
    "        return results[0]"
   ]
  },
  {
   "cell_type": "code",
   "execution_count": 8,
   "metadata": {},
   "outputs": [
    {
     "name": "stdout",
     "output_type": "stream",
     "text": [
      "Finding tests in NoName\n",
      "Trying:\n",
      "    get_address('Select Specialty Hospital - Northeast Atlanta')\n",
      "Expecting:\n",
      "    '1821 CLIFTON ROAD NE'\n",
      "ok\n",
      "Trying:\n",
      "    get_address('Emory Dunwoody Medical Center')\n",
      "Expecting:\n",
      "    '4500 NORTH SHALLOWFORD ROAD'\n",
      "ok\n",
      "Trying:\n",
      "    get_address('Wesley Woods Geriatric Hospital')\n",
      "Expecting:\n",
      "    '1821 CLIFTON ROAD, NE'\n",
      "ok\n"
     ]
    }
   ],
   "source": [
    "import doctest\n",
    "doctest.run_docstring_examples(get_address, globals(), verbose=True)"
   ]
  },
  {
   "cell_type": "markdown",
   "metadata": {},
   "source": [
    "## Part 4: Run the risk calculator on a population\n",
    "\n",
    "The `/data` folder has a file called `people.psv`.  It is a pipe-delimited (`|`) file with columns that match the inputs for the PRIEST calculation above.\n",
    "\n",
    "In addition, the file has a patient identifier in the first column.\n",
    "\n",
    "1. Write a function called **process_people()** that takes a file name as a parameter. Your Python program should use your code above to process all of these rows, determine the hospital and address, and return a list whose items are a dictionary like `{ patient_number: [sex, age, breath, o2sat, heart, systolic, temp, alertness, inspired, status, hospital, address]}`\n",
    "2. Be sure to use good docstrings, but you don't need any tests in your doc strings.  I've provided those for you below.\n",
    "\n",
    "\n",
    "**NOTE** that when running your code for all the 100 records in the `people.psv` file, it may take a few minutes to complete.  You're making multiple calls to the internet for each record, so that can take a little while.\n"
   ]
  },
  {
   "cell_type": "code",
   "execution_count": 9,
   "metadata": {},
   "outputs": [],
   "source": [
    "def process_people(file_name):\n",
    "    results = {}\n",
    "    with open(\"../data/\"+file_name) as csv:\n",
    "        peoples_data = csv.readlines()\n",
    "        for people in peoples_data[1:]:\n",
    "            try:\n",
    "                patient_details = people.split(\"|\")\n",
    "                patient_number = patient_details[0]\n",
    "                \n",
    "#we are calling priest function and passing the data from patient details in the same order required for function.\n",
    "\n",
    "                risk_score = priest(patient_details[1], int(patient_details[2]), int(patient_details[3]), float(patient_details[4]), \n",
    "                                     int(patient_details[5]), int(patient_details[6]),float(patient_details[7]), patient_details[8],\n",
    "                                     patient_details[9],(patient_details[10][0:-1]))\n",
    "    \n",
    "# we are finding the hospital name by passing Age, Sec and the risk score which was calculated from the above priest function\n",
    "\n",
    "                hospital_name = find_hospital(int(patient_details[2]), patient_details[1], risk_score)\n",
    "                hospital_adddress = get_address(hospital_name)\n",
    "                results[patient_number] = [patient_details[1], int(patient_details[2]), int(patient_details[3]), float(patient_details[4]), \n",
    "                     int(patient_details[5]), int(patient_details[6]),float(patient_details[7]), patient_details[8],\n",
    "                     patient_details[9],(patient_details[10][0:-1]),risk_score, hospital_name, hospital_adddress]\n",
    "            except Exception as e:\n",
    "                print(e, people, hospital_name)\n",
    "    return results"
   ]
  },
  {
   "cell_type": "markdown",
   "metadata": {},
   "source": [
    "## Part 5: Checking your final results\n",
    "\n",
    "The final step is to check your results.  You should be able to compare your results to the output in `people_results.json` in the `/data` folder.  Write some code to check your results.  This does not need to be a function."
   ]
  },
  {
   "cell_type": "code",
   "execution_count": 10,
   "metadata": {},
   "outputs": [
    {
     "name": "stdout",
     "output_type": "stream",
     "text": [
      "Both are Same\n"
     ]
    }
   ],
   "source": [
    "import json\n",
    "json_file = \"people_results.json\"\n",
    "with open(\"../data/\"+json_file) as file:\n",
    "    json_data = json.loads(file.read())\n",
    "    peoples_results = process_people('people.psv')\n",
    "    if json_data == peoples_results:\n",
    "        print(\"Both are Same\")"
   ]
  },
  {
   "cell_type": "markdown",
   "metadata": {},
   "source": [
    "---\n",
    "\n",
    "## Check your work above\n",
    "\n",
    "If you didn't get them all correct, take a few minutes to think through those that aren't correct.\n",
    "\n",
    "\n",
    "## Submitting Your Work\n",
    "\n",
    "In order to submit your work, you'll need to use the `git` command line program to **add** your homework file (this file) to your local repository, **commit** your changes to your local repository, and then **push** those changes up to github.com.  From there, I'll be able to **pull** the changes down and do my grading.  I'll provide some feedback, **commit** and **push** my comments back to you.  Next week, I'll show you how to **pull** down my comments.\n",
    "\n",
    "To run through everything one last time and submit your work:\n",
    "1. Use the `Kernel` -> `Restart Kernel and Run All Cells` menu option to run everything from top to bottom and stop here.\n",
    "2. Follow the instruction on the prompt below to either ssave and submit your work, or continue working.\n",
    "\n",
    "If anything fails along the way with this submission part of the process, let me know.  I'll help you troubleshoort."
   ]
  },
  {
   "cell_type": "markdown",
   "metadata": {},
   "source": [
    "---"
   ]
  },
  {
   "cell_type": "code",
   "execution_count": null,
   "metadata": {
    "jupyter": {
     "source_hidden": true
    }
   },
   "outputs": [],
   "source": [
    "a=input('''\n",
    "Are you ready to submit your work?\n",
    "1. Click the Save icon (or do Ctrl-S / Cmd-S)\n",
    "2. Type \"yes\" or \"no\" below\n",
    "3. Press Enter\n",
    "\n",
    "''')\n",
    "\n",
    "if a=='yes':\n",
    "    !git add \"midterm-2022.ipynb\"\n",
    "    !git commit -a -m \"Submitting the midterm\"\n",
    "    !git push\n",
    "else:\n",
    "    print('''\n",
    "    \n",
    "OK. We can wait.\n",
    "''')"
   ]
  },
  {
   "cell_type": "code",
   "execution_count": null,
   "metadata": {},
   "outputs": [],
   "source": []
  }
 ],
 "metadata": {
  "kernelspec": {
   "display_name": "Python 3",
   "language": "python",
   "name": "python3"
  },
  "language_info": {
   "codemirror_mode": {
    "name": "ipython",
    "version": 3
   },
   "file_extension": ".py",
   "mimetype": "text/x-python",
   "name": "python",
   "nbconvert_exporter": "python",
   "pygments_lexer": "ipython3",
   "version": "3.6.7"
  }
 },
 "nbformat": 4,
 "nbformat_minor": 4
}
