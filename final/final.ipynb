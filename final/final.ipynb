{
 "cells": [
  {
   "cell_type": "markdown",
   "metadata": {},
   "source": [
    "# HDS 5210-2022 Programming for Health Data Scientists - Final Project"
   ]
  },
  {
   "cell_type": "markdown",
   "metadata": {},
   "source": [
    "## Part - 1: Introduction ##\n",
    "\n",
    "I have choose to use NHANES questionnaire data from two years with 5 years apart i.e. data from 2007-2008 and 2013-2014 to observe the if the no of suicidal thoughts have increased or decreased. The data formats used here are .xpt and .csv. The nhanes 2007-2008 data is broken into two sas format files. So, the first step is to read them and merge them to form a single dataframe.\n",
    "\n",
    "Here's the codebook of the NHANES data which has the exact meaning of each code value in the data: \n",
    "\n",
    "Questionnaire data: https://wwwn.cdc.gov/Nchs/Nhanes/2013-2014/DPQ_H.htm\n",
    "\n",
    "Demographics data: https://wwwn.cdc.gov/Nchs/Nhanes/2013-2014/DEMO_H.htm\n",
    "\n",
    "** The code book of 2007-2008 also has the same coding."
   ]
  },
  {
   "cell_type": "code",
   "execution_count": 1,
   "metadata": {},
   "outputs": [],
   "source": [
    "#Importing and reading the data files\n",
    "import pandas as pd\n",
    "import numpy as np\n",
    "df1 = pd.read_sas('../../hds5210-2022/final/DPQ_E.XPT')\n",
    "df2 = pd.read_sas('../../hds5210-2022/final/DEMO_E.XPT')"
   ]
  },
  {
   "cell_type": "code",
   "execution_count": 2,
   "metadata": {},
   "outputs": [
    {
     "data": {
      "text/plain": [
       "dtype('float64')"
      ]
     },
     "execution_count": 2,
     "metadata": {},
     "output_type": "execute_result"
    }
   ],
   "source": [
    "#Checking the data types of columns in the dataframe.\n",
    "df1['DPQ010'].dtypes"
   ]
  },
  {
   "cell_type": "code",
   "execution_count": 3,
   "metadata": {},
   "outputs": [
    {
     "data": {
      "text/plain": [
       "(5995, 11)"
      ]
     },
     "execution_count": 3,
     "metadata": {},
     "output_type": "execute_result"
    }
   ],
   "source": [
    "df1.shape\n",
    "#df1 is the questionnaire data"
   ]
  },
  {
   "cell_type": "code",
   "execution_count": 4,
   "metadata": {},
   "outputs": [
    {
     "data": {
      "text/plain": [
       "(10149, 43)"
      ]
     },
     "execution_count": 4,
     "metadata": {},
     "output_type": "execute_result"
    }
   ],
   "source": [
    "df2.shape\n",
    "#df2 is the demographics data"
   ]
  },
  {
   "cell_type": "markdown",
   "metadata": {},
   "source": [
    "Here we can observe the difference in number of rows in both demographic data and questionnaire data. There is a column named SEQN which says it is a sequence number. Now, we merge the daya and keep only the data with matches our sequence numbers using inner join.\n",
    "\n",
    "\n",
    "-----------------------------------------------------------------------------------------------------------------------------------------------\n"
   ]
  },
  {
   "cell_type": "markdown",
   "metadata": {},
   "source": [
    "## Part-2:  Merging the data to form one single dataframe"
   ]
  },
  {
   "cell_type": "code",
   "execution_count": 5,
   "metadata": {},
   "outputs": [],
   "source": [
    "#Using inner join to merge the data\n",
    "df_combined = pd.concat([df2,df1], axis = 'columns', join = 'inner')"
   ]
  },
  {
   "cell_type": "code",
   "execution_count": 6,
   "metadata": {},
   "outputs": [
    {
     "data": {
      "text/html": [
       "<div>\n",
       "<style scoped>\n",
       "    .dataframe tbody tr th:only-of-type {\n",
       "        vertical-align: middle;\n",
       "    }\n",
       "\n",
       "    .dataframe tbody tr th {\n",
       "        vertical-align: top;\n",
       "    }\n",
       "\n",
       "    .dataframe thead th {\n",
       "        text-align: right;\n",
       "    }\n",
       "</style>\n",
       "<table border=\"1\" class=\"dataframe\">\n",
       "  <thead>\n",
       "    <tr style=\"text-align: right;\">\n",
       "      <th></th>\n",
       "      <th>SEQN</th>\n",
       "      <th>SDDSRVYR</th>\n",
       "      <th>RIDSTATR</th>\n",
       "      <th>RIDEXMON</th>\n",
       "      <th>RIAGENDR</th>\n",
       "      <th>RIDAGEYR</th>\n",
       "      <th>RIDAGEMN</th>\n",
       "      <th>RIDAGEEX</th>\n",
       "      <th>RIDRETH1</th>\n",
       "      <th>DMQMILIT</th>\n",
       "      <th>...</th>\n",
       "      <th>DPQ010</th>\n",
       "      <th>DPQ020</th>\n",
       "      <th>DPQ030</th>\n",
       "      <th>DPQ040</th>\n",
       "      <th>DPQ050</th>\n",
       "      <th>DPQ060</th>\n",
       "      <th>DPQ070</th>\n",
       "      <th>DPQ080</th>\n",
       "      <th>DPQ090</th>\n",
       "      <th>DPQ100</th>\n",
       "    </tr>\n",
       "  </thead>\n",
       "  <tbody>\n",
       "    <tr>\n",
       "      <th>0</th>\n",
       "      <td>41475.0</td>\n",
       "      <td>5.0</td>\n",
       "      <td>2.0</td>\n",
       "      <td>2.0</td>\n",
       "      <td>2.0</td>\n",
       "      <td>6.200000e+01</td>\n",
       "      <td>751.0</td>\n",
       "      <td>752.0</td>\n",
       "      <td>5.0</td>\n",
       "      <td>2.0</td>\n",
       "      <td>...</td>\n",
       "      <td>1.000000e+00</td>\n",
       "      <td>5.397605e-79</td>\n",
       "      <td>1.000000e+00</td>\n",
       "      <td>1.000000e+00</td>\n",
       "      <td>1.000000e+00</td>\n",
       "      <td>1.000000e+00</td>\n",
       "      <td>5.397605e-79</td>\n",
       "      <td>5.397605e-79</td>\n",
       "      <td>5.397605e-79</td>\n",
       "      <td>5.397605e-79</td>\n",
       "    </tr>\n",
       "    <tr>\n",
       "      <th>1</th>\n",
       "      <td>41476.0</td>\n",
       "      <td>5.0</td>\n",
       "      <td>2.0</td>\n",
       "      <td>1.0</td>\n",
       "      <td>2.0</td>\n",
       "      <td>6.000000e+00</td>\n",
       "      <td>81.0</td>\n",
       "      <td>82.0</td>\n",
       "      <td>5.0</td>\n",
       "      <td>NaN</td>\n",
       "      <td>...</td>\n",
       "      <td>5.397605e-79</td>\n",
       "      <td>5.397605e-79</td>\n",
       "      <td>5.397605e-79</td>\n",
       "      <td>5.397605e-79</td>\n",
       "      <td>5.397605e-79</td>\n",
       "      <td>5.397605e-79</td>\n",
       "      <td>5.397605e-79</td>\n",
       "      <td>5.397605e-79</td>\n",
       "      <td>5.397605e-79</td>\n",
       "      <td>NaN</td>\n",
       "    </tr>\n",
       "    <tr>\n",
       "      <th>2</th>\n",
       "      <td>41477.0</td>\n",
       "      <td>5.0</td>\n",
       "      <td>2.0</td>\n",
       "      <td>2.0</td>\n",
       "      <td>1.0</td>\n",
       "      <td>7.100000e+01</td>\n",
       "      <td>859.0</td>\n",
       "      <td>860.0</td>\n",
       "      <td>3.0</td>\n",
       "      <td>1.0</td>\n",
       "      <td>...</td>\n",
       "      <td>5.397605e-79</td>\n",
       "      <td>5.397605e-79</td>\n",
       "      <td>5.397605e-79</td>\n",
       "      <td>5.397605e-79</td>\n",
       "      <td>5.397605e-79</td>\n",
       "      <td>5.397605e-79</td>\n",
       "      <td>5.397605e-79</td>\n",
       "      <td>5.397605e-79</td>\n",
       "      <td>5.397605e-79</td>\n",
       "      <td>NaN</td>\n",
       "    </tr>\n",
       "    <tr>\n",
       "      <th>3</th>\n",
       "      <td>41478.0</td>\n",
       "      <td>5.0</td>\n",
       "      <td>2.0</td>\n",
       "      <td>2.0</td>\n",
       "      <td>2.0</td>\n",
       "      <td>1.000000e+00</td>\n",
       "      <td>17.0</td>\n",
       "      <td>17.0</td>\n",
       "      <td>3.0</td>\n",
       "      <td>NaN</td>\n",
       "      <td>...</td>\n",
       "      <td>5.397605e-79</td>\n",
       "      <td>5.397605e-79</td>\n",
       "      <td>1.000000e+00</td>\n",
       "      <td>1.000000e+00</td>\n",
       "      <td>5.397605e-79</td>\n",
       "      <td>5.397605e-79</td>\n",
       "      <td>5.397605e-79</td>\n",
       "      <td>5.397605e-79</td>\n",
       "      <td>5.397605e-79</td>\n",
       "      <td>5.397605e-79</td>\n",
       "    </tr>\n",
       "    <tr>\n",
       "      <th>4</th>\n",
       "      <td>41479.0</td>\n",
       "      <td>5.0</td>\n",
       "      <td>2.0</td>\n",
       "      <td>1.0</td>\n",
       "      <td>1.0</td>\n",
       "      <td>5.200000e+01</td>\n",
       "      <td>629.0</td>\n",
       "      <td>630.0</td>\n",
       "      <td>1.0</td>\n",
       "      <td>2.0</td>\n",
       "      <td>...</td>\n",
       "      <td>9.000000e+00</td>\n",
       "      <td>1.000000e+00</td>\n",
       "      <td>1.000000e+00</td>\n",
       "      <td>5.397605e-79</td>\n",
       "      <td>5.397605e-79</td>\n",
       "      <td>5.397605e-79</td>\n",
       "      <td>5.397605e-79</td>\n",
       "      <td>5.397605e-79</td>\n",
       "      <td>5.397605e-79</td>\n",
       "      <td>5.397605e-79</td>\n",
       "    </tr>\n",
       "    <tr>\n",
       "      <th>...</th>\n",
       "      <td>...</td>\n",
       "      <td>...</td>\n",
       "      <td>...</td>\n",
       "      <td>...</td>\n",
       "      <td>...</td>\n",
       "      <td>...</td>\n",
       "      <td>...</td>\n",
       "      <td>...</td>\n",
       "      <td>...</td>\n",
       "      <td>...</td>\n",
       "      <td>...</td>\n",
       "      <td>...</td>\n",
       "      <td>...</td>\n",
       "      <td>...</td>\n",
       "      <td>...</td>\n",
       "      <td>...</td>\n",
       "      <td>...</td>\n",
       "      <td>...</td>\n",
       "      <td>...</td>\n",
       "      <td>...</td>\n",
       "      <td>...</td>\n",
       "    </tr>\n",
       "    <tr>\n",
       "      <th>5990</th>\n",
       "      <td>47465.0</td>\n",
       "      <td>5.0</td>\n",
       "      <td>1.0</td>\n",
       "      <td>NaN</td>\n",
       "      <td>2.0</td>\n",
       "      <td>8.000000e+01</td>\n",
       "      <td>NaN</td>\n",
       "      <td>NaN</td>\n",
       "      <td>3.0</td>\n",
       "      <td>2.0</td>\n",
       "      <td>...</td>\n",
       "      <td>5.397605e-79</td>\n",
       "      <td>1.000000e+00</td>\n",
       "      <td>5.397605e-79</td>\n",
       "      <td>1.000000e+00</td>\n",
       "      <td>5.397605e-79</td>\n",
       "      <td>5.397605e-79</td>\n",
       "      <td>5.397605e-79</td>\n",
       "      <td>1.000000e+00</td>\n",
       "      <td>5.397605e-79</td>\n",
       "      <td>5.397605e-79</td>\n",
       "    </tr>\n",
       "    <tr>\n",
       "      <th>5991</th>\n",
       "      <td>47466.0</td>\n",
       "      <td>5.0</td>\n",
       "      <td>2.0</td>\n",
       "      <td>2.0</td>\n",
       "      <td>2.0</td>\n",
       "      <td>4.700000e+01</td>\n",
       "      <td>571.0</td>\n",
       "      <td>572.0</td>\n",
       "      <td>1.0</td>\n",
       "      <td>2.0</td>\n",
       "      <td>...</td>\n",
       "      <td>5.397605e-79</td>\n",
       "      <td>5.397605e-79</td>\n",
       "      <td>5.397605e-79</td>\n",
       "      <td>5.397605e-79</td>\n",
       "      <td>5.397605e-79</td>\n",
       "      <td>5.397605e-79</td>\n",
       "      <td>5.397605e-79</td>\n",
       "      <td>5.397605e-79</td>\n",
       "      <td>5.397605e-79</td>\n",
       "      <td>NaN</td>\n",
       "    </tr>\n",
       "    <tr>\n",
       "      <th>5992</th>\n",
       "      <td>47467.0</td>\n",
       "      <td>5.0</td>\n",
       "      <td>2.0</td>\n",
       "      <td>1.0</td>\n",
       "      <td>2.0</td>\n",
       "      <td>5.397605e-79</td>\n",
       "      <td>5.0</td>\n",
       "      <td>5.0</td>\n",
       "      <td>1.0</td>\n",
       "      <td>NaN</td>\n",
       "      <td>...</td>\n",
       "      <td>5.397605e-79</td>\n",
       "      <td>5.397605e-79</td>\n",
       "      <td>2.000000e+00</td>\n",
       "      <td>5.397605e-79</td>\n",
       "      <td>5.397605e-79</td>\n",
       "      <td>5.397605e-79</td>\n",
       "      <td>2.000000e+00</td>\n",
       "      <td>2.000000e+00</td>\n",
       "      <td>5.397605e-79</td>\n",
       "      <td>5.397605e-79</td>\n",
       "    </tr>\n",
       "    <tr>\n",
       "      <th>5993</th>\n",
       "      <td>47468.0</td>\n",
       "      <td>5.0</td>\n",
       "      <td>2.0</td>\n",
       "      <td>1.0</td>\n",
       "      <td>2.0</td>\n",
       "      <td>9.000000e+00</td>\n",
       "      <td>115.0</td>\n",
       "      <td>117.0</td>\n",
       "      <td>2.0</td>\n",
       "      <td>NaN</td>\n",
       "      <td>...</td>\n",
       "      <td>5.397605e-79</td>\n",
       "      <td>5.397605e-79</td>\n",
       "      <td>5.397605e-79</td>\n",
       "      <td>1.000000e+00</td>\n",
       "      <td>5.397605e-79</td>\n",
       "      <td>5.397605e-79</td>\n",
       "      <td>1.000000e+00</td>\n",
       "      <td>5.397605e-79</td>\n",
       "      <td>5.397605e-79</td>\n",
       "      <td>5.397605e-79</td>\n",
       "    </tr>\n",
       "    <tr>\n",
       "      <th>5994</th>\n",
       "      <td>47469.0</td>\n",
       "      <td>5.0</td>\n",
       "      <td>2.0</td>\n",
       "      <td>2.0</td>\n",
       "      <td>1.0</td>\n",
       "      <td>5.500000e+01</td>\n",
       "      <td>664.0</td>\n",
       "      <td>664.0</td>\n",
       "      <td>3.0</td>\n",
       "      <td>1.0</td>\n",
       "      <td>...</td>\n",
       "      <td>5.397605e-79</td>\n",
       "      <td>5.397605e-79</td>\n",
       "      <td>1.000000e+00</td>\n",
       "      <td>3.000000e+00</td>\n",
       "      <td>5.397605e-79</td>\n",
       "      <td>5.397605e-79</td>\n",
       "      <td>5.397605e-79</td>\n",
       "      <td>5.397605e-79</td>\n",
       "      <td>5.397605e-79</td>\n",
       "      <td>9.000000e+00</td>\n",
       "    </tr>\n",
       "  </tbody>\n",
       "</table>\n",
       "<p>5995 rows × 54 columns</p>\n",
       "</div>"
      ],
      "text/plain": [
       "         SEQN  SDDSRVYR  RIDSTATR  RIDEXMON  RIAGENDR      RIDAGEYR  RIDAGEMN  \\\n",
       "0     41475.0       5.0       2.0       2.0       2.0  6.200000e+01     751.0   \n",
       "1     41476.0       5.0       2.0       1.0       2.0  6.000000e+00      81.0   \n",
       "2     41477.0       5.0       2.0       2.0       1.0  7.100000e+01     859.0   \n",
       "3     41478.0       5.0       2.0       2.0       2.0  1.000000e+00      17.0   \n",
       "4     41479.0       5.0       2.0       1.0       1.0  5.200000e+01     629.0   \n",
       "...       ...       ...       ...       ...       ...           ...       ...   \n",
       "5990  47465.0       5.0       1.0       NaN       2.0  8.000000e+01       NaN   \n",
       "5991  47466.0       5.0       2.0       2.0       2.0  4.700000e+01     571.0   \n",
       "5992  47467.0       5.0       2.0       1.0       2.0  5.397605e-79       5.0   \n",
       "5993  47468.0       5.0       2.0       1.0       2.0  9.000000e+00     115.0   \n",
       "5994  47469.0       5.0       2.0       2.0       1.0  5.500000e+01     664.0   \n",
       "\n",
       "      RIDAGEEX  RIDRETH1  DMQMILIT  ...        DPQ010        DPQ020  \\\n",
       "0        752.0       5.0       2.0  ...  1.000000e+00  5.397605e-79   \n",
       "1         82.0       5.0       NaN  ...  5.397605e-79  5.397605e-79   \n",
       "2        860.0       3.0       1.0  ...  5.397605e-79  5.397605e-79   \n",
       "3         17.0       3.0       NaN  ...  5.397605e-79  5.397605e-79   \n",
       "4        630.0       1.0       2.0  ...  9.000000e+00  1.000000e+00   \n",
       "...        ...       ...       ...  ...           ...           ...   \n",
       "5990       NaN       3.0       2.0  ...  5.397605e-79  1.000000e+00   \n",
       "5991     572.0       1.0       2.0  ...  5.397605e-79  5.397605e-79   \n",
       "5992       5.0       1.0       NaN  ...  5.397605e-79  5.397605e-79   \n",
       "5993     117.0       2.0       NaN  ...  5.397605e-79  5.397605e-79   \n",
       "5994     664.0       3.0       1.0  ...  5.397605e-79  5.397605e-79   \n",
       "\n",
       "            DPQ030        DPQ040        DPQ050        DPQ060        DPQ070  \\\n",
       "0     1.000000e+00  1.000000e+00  1.000000e+00  1.000000e+00  5.397605e-79   \n",
       "1     5.397605e-79  5.397605e-79  5.397605e-79  5.397605e-79  5.397605e-79   \n",
       "2     5.397605e-79  5.397605e-79  5.397605e-79  5.397605e-79  5.397605e-79   \n",
       "3     1.000000e+00  1.000000e+00  5.397605e-79  5.397605e-79  5.397605e-79   \n",
       "4     1.000000e+00  5.397605e-79  5.397605e-79  5.397605e-79  5.397605e-79   \n",
       "...            ...           ...           ...           ...           ...   \n",
       "5990  5.397605e-79  1.000000e+00  5.397605e-79  5.397605e-79  5.397605e-79   \n",
       "5991  5.397605e-79  5.397605e-79  5.397605e-79  5.397605e-79  5.397605e-79   \n",
       "5992  2.000000e+00  5.397605e-79  5.397605e-79  5.397605e-79  2.000000e+00   \n",
       "5993  5.397605e-79  1.000000e+00  5.397605e-79  5.397605e-79  1.000000e+00   \n",
       "5994  1.000000e+00  3.000000e+00  5.397605e-79  5.397605e-79  5.397605e-79   \n",
       "\n",
       "            DPQ080        DPQ090        DPQ100  \n",
       "0     5.397605e-79  5.397605e-79  5.397605e-79  \n",
       "1     5.397605e-79  5.397605e-79           NaN  \n",
       "2     5.397605e-79  5.397605e-79           NaN  \n",
       "3     5.397605e-79  5.397605e-79  5.397605e-79  \n",
       "4     5.397605e-79  5.397605e-79  5.397605e-79  \n",
       "...            ...           ...           ...  \n",
       "5990  1.000000e+00  5.397605e-79  5.397605e-79  \n",
       "5991  5.397605e-79  5.397605e-79           NaN  \n",
       "5992  2.000000e+00  5.397605e-79  5.397605e-79  \n",
       "5993  5.397605e-79  5.397605e-79  5.397605e-79  \n",
       "5994  5.397605e-79  5.397605e-79  9.000000e+00  \n",
       "\n",
       "[5995 rows x 54 columns]"
      ]
     },
     "execution_count": 6,
     "metadata": {},
     "output_type": "execute_result"
    }
   ],
   "source": [
    "df_combined"
   ]
  },
  {
   "cell_type": "markdown",
   "metadata": {},
   "source": [
    "Now we got all the columns but only the rows which and same in both the data. So, we have 5995 entries with both questionnaire and demographics data. \n",
    "\n",
    "\n",
    "-----------------------------------------------------------------------------------------------------------------------------------------------\n"
   ]
  },
  {
   "cell_type": "markdown",
   "metadata": {},
   "source": [
    "### Part-3: Doing some analysis"
   ]
  },
  {
   "cell_type": "code",
   "execution_count": 7,
   "metadata": {},
   "outputs": [],
   "source": [
    "#Selecting only variables of interest and storing in a new df.\n",
    "\n",
    "nhanes_07_08  = df_combined.loc[:, ['RIAGENDR', 'RIDRETH1', 'DMDMARTL', 'INDHHIN2', 'DPQ010', 'DPQ020', 'DPQ030', 'DPQ040', \n",
    "                                    'DPQ050', 'DPQ060', 'DPQ070', 'DPQ090']]"
   ]
  },
  {
   "cell_type": "code",
   "execution_count": 8,
   "metadata": {},
   "outputs": [],
   "source": [
    "# As the columns are in codes and difficult to understand renaming them to meaningful labels.\n",
    "nhanes_07_08.rename(columns={'RIAGENDR': 'GENDER', 'RIDRETH1': 'RACE', 'DMDMARTL': 'MARITAL STATUS', 'INDHHIN2': 'ANNUAL INCOME',\n",
    "                            'DPQ010': 'Little interest in doing things', 'DPQ020': 'Feeling depressed',\n",
    "                            'DPQ030': 'Sleeping problems', 'DPQ040': 'Feeling tired', 'DPQ050': 'Poor appetite or over eating',\n",
    "                             'DPQ060': 'Feeling bad about oneself', 'DPQ070': 'Trouble concentrating', \n",
    "                             'DPQ090': 'Thought you would be better off dead'}, inplace=True)"
   ]
  },
  {
   "cell_type": "code",
   "execution_count": 9,
   "metadata": {},
   "outputs": [
    {
     "data": {
      "text/html": [
       "<div>\n",
       "<style scoped>\n",
       "    .dataframe tbody tr th:only-of-type {\n",
       "        vertical-align: middle;\n",
       "    }\n",
       "\n",
       "    .dataframe tbody tr th {\n",
       "        vertical-align: top;\n",
       "    }\n",
       "\n",
       "    .dataframe thead th {\n",
       "        text-align: right;\n",
       "    }\n",
       "</style>\n",
       "<table border=\"1\" class=\"dataframe\">\n",
       "  <thead>\n",
       "    <tr style=\"text-align: right;\">\n",
       "      <th></th>\n",
       "      <th>GENDER</th>\n",
       "      <th>RACE</th>\n",
       "      <th>MARITAL STATUS</th>\n",
       "      <th>ANNUAL INCOME</th>\n",
       "      <th>Little interest in doing things</th>\n",
       "      <th>Feeling depressed</th>\n",
       "      <th>Sleeping problems</th>\n",
       "      <th>Feeling tired</th>\n",
       "      <th>Poor appetite or over eating</th>\n",
       "      <th>Feeling bad about oneself</th>\n",
       "      <th>Trouble concentrating</th>\n",
       "      <th>Thought you would be better off dead</th>\n",
       "    </tr>\n",
       "  </thead>\n",
       "  <tbody>\n",
       "    <tr>\n",
       "      <th>0</th>\n",
       "      <td>2.0</td>\n",
       "      <td>5.0</td>\n",
       "      <td>1.0</td>\n",
       "      <td>6.0</td>\n",
       "      <td>1.000000e+00</td>\n",
       "      <td>5.397605e-79</td>\n",
       "      <td>1.000000e+00</td>\n",
       "      <td>1.000000e+00</td>\n",
       "      <td>1.000000e+00</td>\n",
       "      <td>1.000000e+00</td>\n",
       "      <td>5.397605e-79</td>\n",
       "      <td>5.397605e-79</td>\n",
       "    </tr>\n",
       "    <tr>\n",
       "      <th>1</th>\n",
       "      <td>2.0</td>\n",
       "      <td>5.0</td>\n",
       "      <td>NaN</td>\n",
       "      <td>15.0</td>\n",
       "      <td>5.397605e-79</td>\n",
       "      <td>5.397605e-79</td>\n",
       "      <td>5.397605e-79</td>\n",
       "      <td>5.397605e-79</td>\n",
       "      <td>5.397605e-79</td>\n",
       "      <td>5.397605e-79</td>\n",
       "      <td>5.397605e-79</td>\n",
       "      <td>5.397605e-79</td>\n",
       "    </tr>\n",
       "    <tr>\n",
       "      <th>2</th>\n",
       "      <td>1.0</td>\n",
       "      <td>3.0</td>\n",
       "      <td>1.0</td>\n",
       "      <td>5.0</td>\n",
       "      <td>5.397605e-79</td>\n",
       "      <td>5.397605e-79</td>\n",
       "      <td>5.397605e-79</td>\n",
       "      <td>5.397605e-79</td>\n",
       "      <td>5.397605e-79</td>\n",
       "      <td>5.397605e-79</td>\n",
       "      <td>5.397605e-79</td>\n",
       "      <td>5.397605e-79</td>\n",
       "    </tr>\n",
       "    <tr>\n",
       "      <th>3</th>\n",
       "      <td>2.0</td>\n",
       "      <td>3.0</td>\n",
       "      <td>NaN</td>\n",
       "      <td>3.0</td>\n",
       "      <td>5.397605e-79</td>\n",
       "      <td>5.397605e-79</td>\n",
       "      <td>1.000000e+00</td>\n",
       "      <td>1.000000e+00</td>\n",
       "      <td>5.397605e-79</td>\n",
       "      <td>5.397605e-79</td>\n",
       "      <td>5.397605e-79</td>\n",
       "      <td>5.397605e-79</td>\n",
       "    </tr>\n",
       "    <tr>\n",
       "      <th>4</th>\n",
       "      <td>1.0</td>\n",
       "      <td>1.0</td>\n",
       "      <td>1.0</td>\n",
       "      <td>8.0</td>\n",
       "      <td>9.000000e+00</td>\n",
       "      <td>1.000000e+00</td>\n",
       "      <td>1.000000e+00</td>\n",
       "      <td>5.397605e-79</td>\n",
       "      <td>5.397605e-79</td>\n",
       "      <td>5.397605e-79</td>\n",
       "      <td>5.397605e-79</td>\n",
       "      <td>5.397605e-79</td>\n",
       "    </tr>\n",
       "    <tr>\n",
       "      <th>...</th>\n",
       "      <td>...</td>\n",
       "      <td>...</td>\n",
       "      <td>...</td>\n",
       "      <td>...</td>\n",
       "      <td>...</td>\n",
       "      <td>...</td>\n",
       "      <td>...</td>\n",
       "      <td>...</td>\n",
       "      <td>...</td>\n",
       "      <td>...</td>\n",
       "      <td>...</td>\n",
       "      <td>...</td>\n",
       "    </tr>\n",
       "    <tr>\n",
       "      <th>5990</th>\n",
       "      <td>2.0</td>\n",
       "      <td>3.0</td>\n",
       "      <td>1.0</td>\n",
       "      <td>6.0</td>\n",
       "      <td>5.397605e-79</td>\n",
       "      <td>1.000000e+00</td>\n",
       "      <td>5.397605e-79</td>\n",
       "      <td>1.000000e+00</td>\n",
       "      <td>5.397605e-79</td>\n",
       "      <td>5.397605e-79</td>\n",
       "      <td>5.397605e-79</td>\n",
       "      <td>5.397605e-79</td>\n",
       "    </tr>\n",
       "    <tr>\n",
       "      <th>5991</th>\n",
       "      <td>2.0</td>\n",
       "      <td>1.0</td>\n",
       "      <td>3.0</td>\n",
       "      <td>8.0</td>\n",
       "      <td>5.397605e-79</td>\n",
       "      <td>5.397605e-79</td>\n",
       "      <td>5.397605e-79</td>\n",
       "      <td>5.397605e-79</td>\n",
       "      <td>5.397605e-79</td>\n",
       "      <td>5.397605e-79</td>\n",
       "      <td>5.397605e-79</td>\n",
       "      <td>5.397605e-79</td>\n",
       "    </tr>\n",
       "    <tr>\n",
       "      <th>5992</th>\n",
       "      <td>2.0</td>\n",
       "      <td>1.0</td>\n",
       "      <td>NaN</td>\n",
       "      <td>99.0</td>\n",
       "      <td>5.397605e-79</td>\n",
       "      <td>5.397605e-79</td>\n",
       "      <td>2.000000e+00</td>\n",
       "      <td>5.397605e-79</td>\n",
       "      <td>5.397605e-79</td>\n",
       "      <td>5.397605e-79</td>\n",
       "      <td>2.000000e+00</td>\n",
       "      <td>5.397605e-79</td>\n",
       "    </tr>\n",
       "    <tr>\n",
       "      <th>5993</th>\n",
       "      <td>2.0</td>\n",
       "      <td>2.0</td>\n",
       "      <td>NaN</td>\n",
       "      <td>5.0</td>\n",
       "      <td>5.397605e-79</td>\n",
       "      <td>5.397605e-79</td>\n",
       "      <td>5.397605e-79</td>\n",
       "      <td>1.000000e+00</td>\n",
       "      <td>5.397605e-79</td>\n",
       "      <td>5.397605e-79</td>\n",
       "      <td>1.000000e+00</td>\n",
       "      <td>5.397605e-79</td>\n",
       "    </tr>\n",
       "    <tr>\n",
       "      <th>5994</th>\n",
       "      <td>1.0</td>\n",
       "      <td>3.0</td>\n",
       "      <td>3.0</td>\n",
       "      <td>10.0</td>\n",
       "      <td>5.397605e-79</td>\n",
       "      <td>5.397605e-79</td>\n",
       "      <td>1.000000e+00</td>\n",
       "      <td>3.000000e+00</td>\n",
       "      <td>5.397605e-79</td>\n",
       "      <td>5.397605e-79</td>\n",
       "      <td>5.397605e-79</td>\n",
       "      <td>5.397605e-79</td>\n",
       "    </tr>\n",
       "  </tbody>\n",
       "</table>\n",
       "<p>5995 rows × 12 columns</p>\n",
       "</div>"
      ],
      "text/plain": [
       "      GENDER  RACE  MARITAL STATUS  ANNUAL INCOME  \\\n",
       "0        2.0   5.0             1.0            6.0   \n",
       "1        2.0   5.0             NaN           15.0   \n",
       "2        1.0   3.0             1.0            5.0   \n",
       "3        2.0   3.0             NaN            3.0   \n",
       "4        1.0   1.0             1.0            8.0   \n",
       "...      ...   ...             ...            ...   \n",
       "5990     2.0   3.0             1.0            6.0   \n",
       "5991     2.0   1.0             3.0            8.0   \n",
       "5992     2.0   1.0             NaN           99.0   \n",
       "5993     2.0   2.0             NaN            5.0   \n",
       "5994     1.0   3.0             3.0           10.0   \n",
       "\n",
       "      Little interest in doing things  Feeling depressed  Sleeping problems  \\\n",
       "0                        1.000000e+00       5.397605e-79       1.000000e+00   \n",
       "1                        5.397605e-79       5.397605e-79       5.397605e-79   \n",
       "2                        5.397605e-79       5.397605e-79       5.397605e-79   \n",
       "3                        5.397605e-79       5.397605e-79       1.000000e+00   \n",
       "4                        9.000000e+00       1.000000e+00       1.000000e+00   \n",
       "...                               ...                ...                ...   \n",
       "5990                     5.397605e-79       1.000000e+00       5.397605e-79   \n",
       "5991                     5.397605e-79       5.397605e-79       5.397605e-79   \n",
       "5992                     5.397605e-79       5.397605e-79       2.000000e+00   \n",
       "5993                     5.397605e-79       5.397605e-79       5.397605e-79   \n",
       "5994                     5.397605e-79       5.397605e-79       1.000000e+00   \n",
       "\n",
       "      Feeling tired  Poor appetite or over eating  Feeling bad about oneself  \\\n",
       "0      1.000000e+00                  1.000000e+00               1.000000e+00   \n",
       "1      5.397605e-79                  5.397605e-79               5.397605e-79   \n",
       "2      5.397605e-79                  5.397605e-79               5.397605e-79   \n",
       "3      1.000000e+00                  5.397605e-79               5.397605e-79   \n",
       "4      5.397605e-79                  5.397605e-79               5.397605e-79   \n",
       "...             ...                           ...                        ...   \n",
       "5990   1.000000e+00                  5.397605e-79               5.397605e-79   \n",
       "5991   5.397605e-79                  5.397605e-79               5.397605e-79   \n",
       "5992   5.397605e-79                  5.397605e-79               5.397605e-79   \n",
       "5993   1.000000e+00                  5.397605e-79               5.397605e-79   \n",
       "5994   3.000000e+00                  5.397605e-79               5.397605e-79   \n",
       "\n",
       "      Trouble concentrating  Thought you would be better off dead  \n",
       "0              5.397605e-79                          5.397605e-79  \n",
       "1              5.397605e-79                          5.397605e-79  \n",
       "2              5.397605e-79                          5.397605e-79  \n",
       "3              5.397605e-79                          5.397605e-79  \n",
       "4              5.397605e-79                          5.397605e-79  \n",
       "...                     ...                                   ...  \n",
       "5990           5.397605e-79                          5.397605e-79  \n",
       "5991           5.397605e-79                          5.397605e-79  \n",
       "5992           2.000000e+00                          5.397605e-79  \n",
       "5993           1.000000e+00                          5.397605e-79  \n",
       "5994           5.397605e-79                          5.397605e-79  \n",
       "\n",
       "[5995 rows x 12 columns]"
      ]
     },
     "execution_count": 9,
     "metadata": {},
     "output_type": "execute_result"
    }
   ],
   "source": [
    "nhanes_07_08"
   ]
  },
  {
   "cell_type": "markdown",
   "metadata": {},
   "source": [
    "-----------------------------------------------------------------------------------------------------------------------------------------------\n",
    "\n",
    "\n",
    "### Part-4: Bringing in 2013-2014 data\n",
    "\n",
    "The NHANES 2013-2014 data one single csv file with both demographics and questionnaire data. Now, we read the file bby selecting only the required fileds and store it in a new dataframe."
   ]
  },
  {
   "cell_type": "code",
   "execution_count": 10,
   "metadata": {},
   "outputs": [],
   "source": [
    "nhanes_13_14 = pd.read_csv('../../hds5210-2022/final/NHANES_2013-2014.csv', header=0, \n",
    "                                usecols=['RIAGENDR', 'RIDRETH1', 'DMDMARTL', 'INDHHIN2', 'DPQ010', 'DPQ020', 'DPQ030', 'DPQ040', \n",
    "                                    'DPQ050', 'DPQ060', 'DPQ070', 'DPQ090'])"
   ]
  },
  {
   "cell_type": "code",
   "execution_count": 11,
   "metadata": {},
   "outputs": [
    {
     "data": {
      "text/html": [
       "<div>\n",
       "<style scoped>\n",
       "    .dataframe tbody tr th:only-of-type {\n",
       "        vertical-align: middle;\n",
       "    }\n",
       "\n",
       "    .dataframe tbody tr th {\n",
       "        vertical-align: top;\n",
       "    }\n",
       "\n",
       "    .dataframe thead th {\n",
       "        text-align: right;\n",
       "    }\n",
       "</style>\n",
       "<table border=\"1\" class=\"dataframe\">\n",
       "  <thead>\n",
       "    <tr style=\"text-align: right;\">\n",
       "      <th></th>\n",
       "      <th>RIAGENDR</th>\n",
       "      <th>RIDRETH1</th>\n",
       "      <th>DMDMARTL</th>\n",
       "      <th>INDHHIN2</th>\n",
       "      <th>DPQ010</th>\n",
       "      <th>DPQ020</th>\n",
       "      <th>DPQ030</th>\n",
       "      <th>DPQ040</th>\n",
       "      <th>DPQ050</th>\n",
       "      <th>DPQ060</th>\n",
       "      <th>DPQ070</th>\n",
       "      <th>DPQ090</th>\n",
       "    </tr>\n",
       "  </thead>\n",
       "  <tbody>\n",
       "    <tr>\n",
       "      <th>0</th>\n",
       "      <td>1</td>\n",
       "      <td>4</td>\n",
       "      <td>4.0</td>\n",
       "      <td>4.0</td>\n",
       "      <td>1.0</td>\n",
       "      <td>0.0</td>\n",
       "      <td>0.0</td>\n",
       "      <td>0.0</td>\n",
       "      <td>0.0</td>\n",
       "      <td>0.0</td>\n",
       "      <td>0.0</td>\n",
       "      <td>0.0</td>\n",
       "    </tr>\n",
       "    <tr>\n",
       "      <th>1</th>\n",
       "      <td>1</td>\n",
       "      <td>3</td>\n",
       "      <td>1.0</td>\n",
       "      <td>7.0</td>\n",
       "      <td>2.0</td>\n",
       "      <td>0.0</td>\n",
       "      <td>0.0</td>\n",
       "      <td>0.0</td>\n",
       "      <td>0.0</td>\n",
       "      <td>0.0</td>\n",
       "      <td>0.0</td>\n",
       "      <td>0.0</td>\n",
       "    </tr>\n",
       "    <tr>\n",
       "      <th>2</th>\n",
       "      <td>1</td>\n",
       "      <td>3</td>\n",
       "      <td>1.0</td>\n",
       "      <td>10.0</td>\n",
       "      <td>0.0</td>\n",
       "      <td>0.0</td>\n",
       "      <td>0.0</td>\n",
       "      <td>0.0</td>\n",
       "      <td>0.0</td>\n",
       "      <td>0.0</td>\n",
       "      <td>0.0</td>\n",
       "      <td>0.0</td>\n",
       "    </tr>\n",
       "    <tr>\n",
       "      <th>3</th>\n",
       "      <td>2</td>\n",
       "      <td>3</td>\n",
       "      <td>1.0</td>\n",
       "      <td>15.0</td>\n",
       "      <td>2.0</td>\n",
       "      <td>1.0</td>\n",
       "      <td>0.0</td>\n",
       "      <td>3.0</td>\n",
       "      <td>3.0</td>\n",
       "      <td>0.0</td>\n",
       "      <td>0.0</td>\n",
       "      <td>0.0</td>\n",
       "    </tr>\n",
       "    <tr>\n",
       "      <th>4</th>\n",
       "      <td>1</td>\n",
       "      <td>1</td>\n",
       "      <td>3.0</td>\n",
       "      <td>9.0</td>\n",
       "      <td>3.0</td>\n",
       "      <td>3.0</td>\n",
       "      <td>3.0</td>\n",
       "      <td>3.0</td>\n",
       "      <td>3.0</td>\n",
       "      <td>1.0</td>\n",
       "      <td>2.0</td>\n",
       "      <td>0.0</td>\n",
       "    </tr>\n",
       "    <tr>\n",
       "      <th>...</th>\n",
       "      <td>...</td>\n",
       "      <td>...</td>\n",
       "      <td>...</td>\n",
       "      <td>...</td>\n",
       "      <td>...</td>\n",
       "      <td>...</td>\n",
       "      <td>...</td>\n",
       "      <td>...</td>\n",
       "      <td>...</td>\n",
       "      <td>...</td>\n",
       "      <td>...</td>\n",
       "      <td>...</td>\n",
       "    </tr>\n",
       "    <tr>\n",
       "      <th>5919</th>\n",
       "      <td>1</td>\n",
       "      <td>1</td>\n",
       "      <td>1.0</td>\n",
       "      <td>10.0</td>\n",
       "      <td>0.0</td>\n",
       "      <td>0.0</td>\n",
       "      <td>0.0</td>\n",
       "      <td>0.0</td>\n",
       "      <td>0.0</td>\n",
       "      <td>0.0</td>\n",
       "      <td>0.0</td>\n",
       "      <td>0.0</td>\n",
       "    </tr>\n",
       "    <tr>\n",
       "      <th>5920</th>\n",
       "      <td>1</td>\n",
       "      <td>3</td>\n",
       "      <td>1.0</td>\n",
       "      <td>8.0</td>\n",
       "      <td>0.0</td>\n",
       "      <td>1.0</td>\n",
       "      <td>0.0</td>\n",
       "      <td>0.0</td>\n",
       "      <td>0.0</td>\n",
       "      <td>0.0</td>\n",
       "      <td>0.0</td>\n",
       "      <td>0.0</td>\n",
       "    </tr>\n",
       "    <tr>\n",
       "      <th>5921</th>\n",
       "      <td>1</td>\n",
       "      <td>1</td>\n",
       "      <td>4.0</td>\n",
       "      <td>9.0</td>\n",
       "      <td>NaN</td>\n",
       "      <td>NaN</td>\n",
       "      <td>NaN</td>\n",
       "      <td>NaN</td>\n",
       "      <td>NaN</td>\n",
       "      <td>NaN</td>\n",
       "      <td>NaN</td>\n",
       "      <td>NaN</td>\n",
       "    </tr>\n",
       "    <tr>\n",
       "      <th>5922</th>\n",
       "      <td>1</td>\n",
       "      <td>2</td>\n",
       "      <td>5.0</td>\n",
       "      <td>77.0</td>\n",
       "      <td>0.0</td>\n",
       "      <td>0.0</td>\n",
       "      <td>0.0</td>\n",
       "      <td>0.0</td>\n",
       "      <td>0.0</td>\n",
       "      <td>0.0</td>\n",
       "      <td>0.0</td>\n",
       "      <td>0.0</td>\n",
       "    </tr>\n",
       "    <tr>\n",
       "      <th>5923</th>\n",
       "      <td>2</td>\n",
       "      <td>4</td>\n",
       "      <td>3.0</td>\n",
       "      <td>7.0</td>\n",
       "      <td>NaN</td>\n",
       "      <td>NaN</td>\n",
       "      <td>NaN</td>\n",
       "      <td>NaN</td>\n",
       "      <td>NaN</td>\n",
       "      <td>NaN</td>\n",
       "      <td>NaN</td>\n",
       "      <td>NaN</td>\n",
       "    </tr>\n",
       "  </tbody>\n",
       "</table>\n",
       "<p>5924 rows × 12 columns</p>\n",
       "</div>"
      ],
      "text/plain": [
       "      RIAGENDR  RIDRETH1  DMDMARTL  INDHHIN2  DPQ010  DPQ020  DPQ030  DPQ040  \\\n",
       "0            1         4       4.0       4.0     1.0     0.0     0.0     0.0   \n",
       "1            1         3       1.0       7.0     2.0     0.0     0.0     0.0   \n",
       "2            1         3       1.0      10.0     0.0     0.0     0.0     0.0   \n",
       "3            2         3       1.0      15.0     2.0     1.0     0.0     3.0   \n",
       "4            1         1       3.0       9.0     3.0     3.0     3.0     3.0   \n",
       "...        ...       ...       ...       ...     ...     ...     ...     ...   \n",
       "5919         1         1       1.0      10.0     0.0     0.0     0.0     0.0   \n",
       "5920         1         3       1.0       8.0     0.0     1.0     0.0     0.0   \n",
       "5921         1         1       4.0       9.0     NaN     NaN     NaN     NaN   \n",
       "5922         1         2       5.0      77.0     0.0     0.0     0.0     0.0   \n",
       "5923         2         4       3.0       7.0     NaN     NaN     NaN     NaN   \n",
       "\n",
       "      DPQ050  DPQ060  DPQ070  DPQ090  \n",
       "0        0.0     0.0     0.0     0.0  \n",
       "1        0.0     0.0     0.0     0.0  \n",
       "2        0.0     0.0     0.0     0.0  \n",
       "3        3.0     0.0     0.0     0.0  \n",
       "4        3.0     1.0     2.0     0.0  \n",
       "...      ...     ...     ...     ...  \n",
       "5919     0.0     0.0     0.0     0.0  \n",
       "5920     0.0     0.0     0.0     0.0  \n",
       "5921     NaN     NaN     NaN     NaN  \n",
       "5922     0.0     0.0     0.0     0.0  \n",
       "5923     NaN     NaN     NaN     NaN  \n",
       "\n",
       "[5924 rows x 12 columns]"
      ]
     },
     "execution_count": 11,
     "metadata": {},
     "output_type": "execute_result"
    }
   ],
   "source": [
    "nhanes_13_14"
   ]
  },
  {
   "cell_type": "code",
   "execution_count": 12,
   "metadata": {},
   "outputs": [],
   "source": [
    "#Renaming the columns to have meaningful labels.\n",
    "\n",
    "nhanes_13_14.rename(columns={'RIAGENDR': 'GENDER', 'RIDRETH1': 'RACE', 'DMDMARTL': 'MARITAL STATUS', 'INDHHIN2': 'ANNUAL INCOME',\n",
    "                            'DPQ010': 'Little interest in doing things', 'DPQ020': 'Feeling depressed',\n",
    "                            'DPQ030': 'Sleeping problems', 'DPQ040': 'Feeling tired', 'DPQ050': 'Poor appetite or over eating',\n",
    "                             'DPQ060': 'Feeling bad about oneself', 'DPQ070': 'Trouble concentrating', \n",
    "                             'DPQ090': 'Thought you would be better off dead'}, inplace=True)"
   ]
  },
  {
   "cell_type": "code",
   "execution_count": 13,
   "metadata": {},
   "outputs": [],
   "source": [
    "assert nhanes_13_14.shape == (5924, 12)\n",
    "assert set(nhanes_13_14.columns == set(['GENDER', 'RACE', 'MARITAL STATUS', 'ANNUAL INCOME',\n",
    "       'Little interest in doing things', 'Feeling depressed',\n",
    "       'Sleeping problems', 'Feeling tired', 'Poor appetite or over eating',\n",
    "       'Feeling bad about oneself', 'Trouble concentrating',\n",
    "       'Thought you would be better off dead']))"
   ]
  },
  {
   "cell_type": "markdown",
   "metadata": {},
   "source": [
    "-----------------------------------------------------------------------------------------------------------------------------------------------\n",
    "\n",
    "\n",
    "## Part-5: Data Visualization\n",
    "\n",
    "### Plotting suicidal thoughts variable which is DPQ090\n",
    "\n",
    "Comparing the data from both the years by plotting graph between DPQ090 variable in both years data."
   ]
  },
  {
   "cell_type": "code",
   "execution_count": 14,
   "metadata": {},
   "outputs": [
    {
     "data": {
      "image/png": "[encoded data removed]",
      "text/plain": [
       "<Figure size 720x360 with 1 Axes>"
      ]
     },
     "metadata": {
      "needs_background": "light"
     },
     "output_type": "display_data"
    }
   ],
   "source": [
    "plot1 = nhanes_07_08['Thought you would be better off dead'].hist(figsize=(10, 5))\n",
    "\n",
    "plot2 = nhanes_13_14['Thought you would be better off dead'].hist(figsize=(10, 5))"
   ]
  },
  {
   "cell_type": "markdown",
   "metadata": {},
   "source": [
    "We find a slight increase in the number of participants in 2013-2014 data who answered '1' which says they have suicidal thoughts several days. "
   ]
  },
  {
   "cell_type": "markdown",
   "metadata": {},
   "source": [
    "\n",
    "\n",
    "\n",
    "\n",
    "### Now we plot the sleeping issue variable which is DPQ030 from both years."
   ]
  },
  {
   "cell_type": "code",
   "execution_count": 15,
   "metadata": {},
   "outputs": [
    {
     "data": {
      "image/png": "[encoded data removed]",
      "text/plain": [
       "<Figure size 720x360 with 1 Axes>"
      ]
     },
     "metadata": {
      "needs_background": "light"
     },
     "output_type": "display_data"
    }
   ],
   "source": [
    "plot1 = nhanes_07_08['Sleeping problems'].hist(figsize=(10, 5))\n",
    "\n",
    "plot2 = nhanes_13_14['Sleeping problems'].hist(figsize=(10, 5))"
   ]
  },
  {
   "cell_type": "markdown",
   "metadata": {},
   "source": [
    "We can observe the increase in number of participants with sleeping issues. "
   ]
  },
  {
   "cell_type": "markdown",
   "metadata": {},
   "source": [
    "### Plotting a pair plot with all the variables in the dataframes."
   ]
  },
  {
   "cell_type": "code",
   "execution_count": 16,
   "metadata": {},
   "outputs": [
    {
     "data": {
      "text/plain": [
       "<seaborn.axisgrid.PairGrid at 0x7fab17220898>"
      ]
     },
     "execution_count": 16,
     "metadata": {},
     "output_type": "execute_result"
    },
    {
     "data": {
      "image/png": "[encoded data removed]",
      "text/plain": [
       "<Figure size 2160x2160 with 156 Axes>"
      ]
     },
     "metadata": {
      "needs_background": "light"
     },
     "output_type": "display_data"
    }
   ],
   "source": [
    "import seaborn as sns\n",
    "\n",
    "sns.pairplot(nhanes_13_14)"
   ]
  },
  {
   "cell_type": "code",
   "execution_count": null,
   "metadata": {},
   "outputs": [
    {
     "data": {
      "text/plain": [
       "<seaborn.axisgrid.PairGrid at 0x7fab040f0668>"
      ]
     },
     "execution_count": 17,
     "metadata": {},
     "output_type": "execute_result"
    }
   ],
   "source": [
    "sns.pairplot(nhanes_07_08)"
   ]
  },
  {
   "cell_type": "markdown",
   "metadata": {},
   "source": [
    "By comparing both the pairplots we can see that there's no much difference in the data. Only the number seems increased in few variiables."
   ]
  },
  {
   "cell_type": "code",
   "execution_count": null,
   "metadata": {},
   "outputs": [],
   "source": []
  },
  {
   "cell_type": "markdown",
   "metadata": {},
   "source": [
    "----------------------------------------------------------------------------------------------------------------------------------------------\n",
    "## Part-6: Merging\n",
    "\n",
    "Now we merge both years data as they have same columns and add a extra column which has the information on which year that data is from."
   ]
  },
  {
   "cell_type": "code",
   "execution_count": null,
   "metadata": {},
   "outputs": [],
   "source": [
    "merged = pd.concat([nhanes_07_08, nhanes_13_14], axis=0, sort=False, keys = ['2007-2008','2013-2014'], \n",
    "                   names = ['Year']).reset_index(level='Year')"
   ]
  },
  {
   "cell_type": "code",
   "execution_count": null,
   "metadata": {},
   "outputs": [],
   "source": [
    "assert merged.shape == (11919, 13)"
   ]
  },
  {
   "cell_type": "markdown",
   "metadata": {},
   "source": [
    "The merged dataframe have some missing values. These values cannot be filled with '0' as it can mislead the conclusions because '0' is a category here. So, we drop the rows with NaN and retain the rows which contain all the data. Also we change the data type from float to int so that we can do some scoring with it later."
   ]
  },
  {
   "cell_type": "code",
   "execution_count": null,
   "metadata": {},
   "outputs": [],
   "source": [
    "float_col = merged.select_dtypes(include=['float64'])\n",
    "\n",
    "# This will select float columns only\n",
    "# list(float_col.columns.values)\n",
    "\n",
    "merged = merged.dropna()\n",
    "for col in float_col.columns.values:\n",
    "    merged[col] = merged[col].astype('int64')"
   ]
  },
  {
   "cell_type": "code",
   "execution_count": null,
   "metadata": {},
   "outputs": [],
   "source": [
    "assert merged['RACE'].dtypes == ('int64')\n",
    "assert merged.shape == (8174, 13)\n",
    "assert set(merged.columns == set(['Year', 'GENDER', 'RACE', 'MARITAL STATUS', 'ANNUAL INCOME',\n",
    "       'Little interest in doing things', 'Feeling depressed',\n",
    "       'Sleeping problems', 'Feeling tired', 'Poor appetite or over eating',\n",
    "       'Feeling bad about oneself', 'Trouble concentrating',\n",
    "       'Thought you would be better off dead']))"
   ]
  },
  {
   "cell_type": "markdown",
   "metadata": {},
   "source": [
    "-----------------------------------------------------------------------------------------------------------------------------------------------\n",
    "\n",
    "\n",
    "## Part-7: Grouping and Pivoting"
   ]
  },
  {
   "cell_type": "code",
   "execution_count": null,
   "metadata": {},
   "outputs": [],
   "source": [
    "#Comparing the depression and race together from differnt years.\n",
    "depression_by_race = merged.groupby(['Year','RACE'])['Thought you would be better off dead'].count().reset_index()"
   ]
  },
  {
   "cell_type": "code",
   "execution_count": null,
   "metadata": {},
   "outputs": [],
   "source": [
    "depression_by_race"
   ]
  },
  {
   "cell_type": "code",
   "execution_count": null,
   "metadata": {},
   "outputs": [],
   "source": [
    "#Using pivot table function to change the table.\n",
    "depression_by_race.pivot(index='Year', columns='RACE', values='Thought you would be better off dead')"
   ]
  },
  {
   "cell_type": "code",
   "execution_count": null,
   "metadata": {},
   "outputs": [],
   "source": [
    "#Comparing the depression and marital status together from differnt years.\n",
    "depression_by_mstatus = merged.groupby(['Year','MARITAL STATUS'])['Thought you would be better off dead'].count().reset_index()"
   ]
  },
  {
   "cell_type": "code",
   "execution_count": null,
   "metadata": {},
   "outputs": [],
   "source": [
    "depression_by_mstatus"
   ]
  },
  {
   "cell_type": "code",
   "execution_count": null,
   "metadata": {},
   "outputs": [],
   "source": [
    "#Using pivot table function to change the table.\n",
    "depression_by_mstatus.pivot(index='Year', columns='MARITAL STATUS', values='Thought you would be better off dead')"
   ]
  },
  {
   "cell_type": "markdown",
   "metadata": {},
   "source": [
    "-----------------------------------------------------------------------------------------------------------------------------------------------\n",
    "\n",
    "\n",
    "## Part-8: Mental health Scoring\n",
    "\n",
    "As each questionnaire data has the range of values from 0 to 3 I have taken them to give scoring to the each question. This gives us a overall score which can be between any value from 0 to 24. This scoring can help us access the level of depression the participant is in and help them come out of it by providing them some sugessions."
   ]
  },
  {
   "cell_type": "code",
   "execution_count": null,
   "metadata": {},
   "outputs": [],
   "source": [
    "#Calculating scores for the questionaire data.\n",
    "def score(DPQ010, DPQ020, DPQ030, DPQ040, DPQ050, DPQ060, DPQ070, DPQ090):\n",
    "    \"\"\"This function calculates the score based on answers for various questions in the NHANES data.\n",
    "    >>> score(1, 1, 3, 2, 1, 0, 1, 2)\n",
    "    11\n",
    "    >>> score(1, 1, 3, 2, 3, 0, 1, 2)\n",
    "    13\n",
    "    \"\"\"\n",
    "    \n",
    "    if DPQ010 == 0:\n",
    "        DPQ010 = 0\n",
    "    elif DPQ010 == 1:\n",
    "        DPQ010 = 1\n",
    "    elif DPQ010 == 2:\n",
    "        DPQ010 = 2\n",
    "    elif DPQ010 == 3:\n",
    "        DPQ010 = 3\n",
    "    if DPQ020 == 0:\n",
    "        DPQ020 = 0\n",
    "    elif DPQ020 == 1:\n",
    "        DPQ020 = 1\n",
    "    elif DPQ020 == 2:\n",
    "        DPQ020 = 2\n",
    "    elif DPQ020 == 3:\n",
    "        DPQ020 = 3\n",
    "    if DPQ030 == 0:\n",
    "        DPQ030 = 0\n",
    "    elif DPQ030 == 1:\n",
    "        DPQ030 = 1\n",
    "    elif DPQ030 == 2:\n",
    "        DPQ030 == 2\n",
    "    elif DPQ030 == 3:\n",
    "        DPQ030 = 3\n",
    "    if DPQ040 == 0:\n",
    "        DPQ040 = 0\n",
    "    elif DPQ040 == 1:\n",
    "        DPQ040 = 1\n",
    "    elif DPQ040 == 2:\n",
    "        DPQ040 = 2\n",
    "    elif DPQ040 == 3:\n",
    "        DPQ040 = 3\n",
    "    if DPQ050 == 0:\n",
    "        DPQ050 = 0\n",
    "    elif DPQ050 == 1:\n",
    "        DPQ050 = 1\n",
    "    elif DPQ050 == 2:\n",
    "        DPQ050 = 2\n",
    "    elif DPQ050 == 3:\n",
    "        DPQ050 = 3\n",
    "    if DPQ060 == 0:\n",
    "        DPQ060 = 0\n",
    "    elif DPQ060 == 1:\n",
    "        DPQ060 = 1\n",
    "    elif DPQ060 == 2:\n",
    "        DPQ060 = 2\n",
    "    elif DPQ060 == 3:\n",
    "        DPQ060 = 3\n",
    "    if DPQ070 == 0:\n",
    "        DPQ070 = 0\n",
    "    elif DPQ070 == 1:\n",
    "        DPQ070 = 1\n",
    "    elif DPQ070 == 2:\n",
    "        DPQ070 = 2\n",
    "    elif DPQ070 == 3:\n",
    "        DPQ070 = 3\n",
    "    if DPQ090 == 0:\n",
    "        DPQ090 = 0\n",
    "    elif DPQ090 == 1:\n",
    "        DPQ090 = 1\n",
    "    elif DPQ090 == 2:\n",
    "        DPQ090 = 2\n",
    "    elif DPQ090 == 3:\n",
    "        DPQ090 = 3\n",
    "    \n",
    "    #The codebook also contains values for few variables as '77' and '99' as 'Not sure' or 'Refused to say'. So, we do not consider that data.\n",
    "    #So, we consider that data as inappropriate data.\n",
    "    \n",
    "    if (DPQ010 or DPQ020 or DPQ030 or DPQ040 or DPQ050 or DPQ060 or DPQ070 or DPQ090) > 3:\n",
    "        raise ValueError('Inappropriate data!!!')\n",
    "        \n",
    "    #Formula\n",
    "    score = DPQ010 + DPQ020 + DPQ030 + DPQ040 + DPQ050 + DPQ060 + DPQ070 + DPQ090\n",
    "    \n",
    "    return score"
   ]
  },
  {
   "cell_type": "code",
   "execution_count": null,
   "metadata": {},
   "outputs": [],
   "source": [
    "assert score(1, 1, 3, 2, 3, 0, 1, 2) == 13"
   ]
  },
  {
   "cell_type": "code",
   "execution_count": null,
   "metadata": {},
   "outputs": [],
   "source": [
    "import doctest\n",
    "doctest.run_docstring_examples(score, globals(), verbose=True)"
   ]
  },
  {
   "cell_type": "markdown",
   "metadata": {},
   "source": [
    "## Giving Indications.\n",
    "\n",
    "Based on the calculated score we can give some suggestions to the participants to overcome the problem and get some mental peace."
   ]
  },
  {
   "cell_type": "code",
   "execution_count": null,
   "metadata": {},
   "outputs": [],
   "source": [
    "def suggest(score):\n",
    "    \n",
    "    \"\"\"This function gives the sugession for the score generated by the previous score function.\n",
    "    >>> suggest(26)\n",
    "    'Incorrect data'\n",
    "    >>> suggest(9)\n",
    "    'Lifestyle changes'\n",
    "    >>> suggest(13)\n",
    "    'Consult a psychologist'\n",
    "    \"\"\"\n",
    "    if score >= 0 and score <= 6:\n",
    "        suggested = 'Look for motivation!!'\n",
    "    elif score > 6 and score <= 12:\n",
    "        suggested = 'Lifestyle changes'\n",
    "    elif score > 12 and score <= 18:\n",
    "        suggested = 'Consult a psychologist'\n",
    "    elif score > 18 and score < 24:\n",
    "        suggested = 'Consult a Psychiatrist'\n",
    "    elif score > 24:\n",
    "        suggested = 'Incorrect data'\n",
    "    else:\n",
    "        suggested = 'Incorrect data'\n",
    "        \n",
    "    return suggested"
   ]
  },
  {
   "cell_type": "code",
   "execution_count": null,
   "metadata": {},
   "outputs": [],
   "source": [
    "import doctest\n",
    "doctest.run_docstring_examples(suggest, globals(), verbose=True)"
   ]
  },
  {
   "cell_type": "markdown",
   "metadata": {},
   "source": [
    "-----------------------------------------------------------------------------------------------------------------------------------------------\n",
    "\n",
    "\n",
    "### Part-9: Creating new columns in the table.\n",
    "\n",
    "Adding the results obtained from the above two functions i.e. 'score' and 'suggest' to the dataframe by creating new columns in the table."
   ]
  },
  {
   "cell_type": "code",
   "execution_count": null,
   "metadata": {},
   "outputs": [],
   "source": [
    "merged['score']= merged.iloc[:, 5:-1].sum(axis=1)\n",
    "merged['Indication'] = merged.apply(lambda x: suggest(x.score),axis=1)"
   ]
  },
  {
   "cell_type": "code",
   "execution_count": null,
   "metadata": {},
   "outputs": [],
   "source": [
    "merged"
   ]
  },
  {
   "cell_type": "markdown",
   "metadata": {},
   "source": [
    "## Grouping the data.\n",
    "Forming a table with the newly added columns to see how many participants fall under each indication category."
   ]
  },
  {
   "cell_type": "code",
   "execution_count": null,
   "metadata": {},
   "outputs": [],
   "source": [
    "table_by_suggestion = merged.groupby(['Year','Indication'])['score'].count().reset_index()\n",
    "table_by_suggestion"
   ]
  },
  {
   "cell_type": "code",
   "execution_count": null,
   "metadata": {},
   "outputs": [],
   "source": [
    "table_by_suggestion.pivot(index='Year', columns='Indication', values='score')"
   ]
  },
  {
   "cell_type": "markdown",
   "metadata": {},
   "source": [
    "From all the observations we can say that the number of people who need mental health assistance is growing year by year.\n",
    "\n",
    "This questionnaire can be attached with the scoring system which we used to give indications at the end so that an early action can be taken on the people with beggining stages and help them recover. If the participant location is known we can furthur extend the project by creating a function which can loacte their nearest Mental Health Facility or Counselling center. A function to extract the appointments page can also be made.\n",
    "\n",
    "Here's the search engine that can locate the nearest facility:\n",
    "https://findtreatment.samhsa.gov/"
   ]
  },
  {
   "cell_type": "markdown",
   "metadata": {},
   "source": [
    "## Submitting the Final work..."
   ]
  },
  {
   "cell_type": "code",
   "execution_count": null,
   "metadata": {},
   "outputs": [],
   "source": [
    "a=input('''\n",
    "Are you ready to submit your work?\n",
    "1. Click the Save icon (or do Ctrl-S / Cmd-S)\n",
    "2. Type \"yes\" or \"no\" below\n",
    "3. Press Enter\n",
    "\n",
    "''')\n",
    "\n",
    "if a=='yes':\n",
    "    !git add \"final.ipynb\"\n",
    "    !git commit -a -m \"Submitting the midterm\"\n",
    "    !git push\n",
    "else:\n",
    "    print('''\n",
    "    \n",
    "OK. We can wait.\n",
    "''')"
   ]
  },
  {
   "cell_type": "code",
   "execution_count": null,
   "metadata": {},
   "outputs": [],
   "source": []
  }
 ],
 "metadata": {
  "kernelspec": {
   "display_name": "Python 3",
   "language": "python",
   "name": "python3"
  },
  "language_info": {
   "codemirror_mode": {
    "name": "ipython",
    "version": 3
   },
   "file_extension": ".py",
   "mimetype": "text/x-python",
   "name": "python",
   "nbconvert_exporter": "python",
   "pygments_lexer": "ipython3",
   "version": "3.6.7"
  }
 },
 "nbformat": 4,
 "nbformat_minor": 4
}
